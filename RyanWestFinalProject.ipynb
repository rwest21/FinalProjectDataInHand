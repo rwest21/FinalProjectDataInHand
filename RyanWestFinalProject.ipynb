{
 "cells": [
  {
   "cell_type": "markdown",
   "id": "03aeaf15",
   "metadata": {},
   "source": [
    "Ryan West\n",
    "\"Data in hand\""
   ]
  },
  {
   "cell_type": "markdown",
   "id": "029c3e44",
   "metadata": {},
   "source": [
    "For my final, I will be using my Instagram data.\n",
    "I have redownloaded the file to have more up to date information.\n",
    "My project involves looking at posts to determine what types of posts I am more likely to like.\n",
    "I will be using the \"liked_posts\" file in the \"likes\" folder.\n",
    "\n",
    "This file lists the name of the account who made the post, the url link, and the timestamp.\n",
    "I will use count to determine how much of each account I have liked and determine the top accounts.\n",
    "\n",
    "I originally thought the file would also contain the post text so I could search for and count hashtags but since that doesn't seem to be the case I will stick with just counting the accounts instead. This may be the case to have some form of privacy for other accounts and keep information about them safe from others."
   ]
  },
  {
   "cell_type": "code",
   "execution_count": 21,
   "id": "78fa675e",
   "metadata": {},
   "outputs": [],
   "source": [
    "import pandas as pd\n",
    "import json\n",
    "import matplotlib as plt\n",
    "\n",
    "from matplotlib import pyplot as plt\n",
    "from scipy import stats"
   ]
  },
  {
   "cell_type": "code",
   "execution_count": 22,
   "id": "42ec6394",
   "metadata": {},
   "outputs": [],
   "source": [
    "with open(r\"C:\\Users\\ryno2\\DATAINEMERGINGMEDIA\\InstagramFinalData\\likes\\liked_posts.json\") as p:\n",
    "    dat = json.load(p)"
   ]
  },
  {
   "cell_type": "code",
   "execution_count": 23,
   "id": "5296bef6",
   "metadata": {},
   "outputs": [
    {
     "data": {
      "text/plain": [
       "dict_keys(['likes_media_likes'])"
      ]
     },
     "execution_count": 23,
     "metadata": {},
     "output_type": "execute_result"
    }
   ],
   "source": [
    "dat.keys()"
   ]
  },
  {
   "cell_type": "code",
   "execution_count": 24,
   "id": "b3b106ee",
   "metadata": {},
   "outputs": [],
   "source": [
    "df_datlikedposts = pd.DataFrame(dat)"
   ]
  },
  {
   "cell_type": "code",
   "execution_count": null,
   "id": "5150826d",
   "metadata": {},
   "outputs": [],
   "source": [
    "df_datlikedposts"
   ]
  },
  {
   "cell_type": "code",
   "execution_count": 26,
   "id": "a845e460",
   "metadata": {},
   "outputs": [],
   "source": [
    "df_likesmedia = pd.DataFrame(dat['likes_media_likes'])"
   ]
  },
  {
   "cell_type": "code",
   "execution_count": null,
   "id": "8adca286",
   "metadata": {},
   "outputs": [],
   "source": [
    "df_likesmedia"
   ]
  },
  {
   "cell_type": "code",
   "execution_count": 28,
   "id": "9b4b2744",
   "metadata": {},
   "outputs": [
    {
     "data": {
      "text/html": [
       "<div>\n",
       "<style scoped>\n",
       "    .dataframe tbody tr th:only-of-type {\n",
       "        vertical-align: middle;\n",
       "    }\n",
       "\n",
       "    .dataframe tbody tr th {\n",
       "        vertical-align: top;\n",
       "    }\n",
       "\n",
       "    .dataframe thead th {\n",
       "        text-align: right;\n",
       "    }\n",
       "</style>\n",
       "<table border=\"1\" class=\"dataframe\">\n",
       "  <thead>\n",
       "    <tr style=\"text-align: right;\">\n",
       "      <th></th>\n",
       "      <th>title</th>\n",
       "      <th>media_list_data</th>\n",
       "      <th>string_list_data</th>\n",
       "    </tr>\n",
       "  </thead>\n",
       "  <tbody>\n",
       "    <tr>\n",
       "      <th>0</th>\n",
       "      <td>theamiibros</td>\n",
       "      <td>[]</td>\n",
       "      <td>[{'href': 'https://www.instagram.com/p/Bkd9pIv...</td>\n",
       "    </tr>\n",
       "    <tr>\n",
       "      <th>1</th>\n",
       "      <td>deftones</td>\n",
       "      <td>[]</td>\n",
       "      <td>[{'href': 'https://www.instagram.com/p/BkduH0I...</td>\n",
       "    </tr>\n",
       "    <tr>\n",
       "      <th>2</th>\n",
       "      <td>thedakku</td>\n",
       "      <td>[]</td>\n",
       "      <td>[{'href': 'https://www.instagram.com/p/BkcE6k4...</td>\n",
       "    </tr>\n",
       "    <tr>\n",
       "      <th>3</th>\n",
       "      <td>mrewest</td>\n",
       "      <td>[]</td>\n",
       "      <td>[{'href': 'https://www.instagram.com/p/Bka_R4p...</td>\n",
       "    </tr>\n",
       "    <tr>\n",
       "      <th>4</th>\n",
       "      <td>mrewest</td>\n",
       "      <td>[]</td>\n",
       "      <td>[{'href': 'https://www.instagram.com/p/BkWRZqr...</td>\n",
       "    </tr>\n",
       "  </tbody>\n",
       "</table>\n",
       "</div>"
      ],
      "text/plain": [
       "         title media_list_data  \\\n",
       "0  theamiibros              []   \n",
       "1     deftones              []   \n",
       "2     thedakku              []   \n",
       "3      mrewest              []   \n",
       "4      mrewest              []   \n",
       "\n",
       "                                    string_list_data  \n",
       "0  [{'href': 'https://www.instagram.com/p/Bkd9pIv...  \n",
       "1  [{'href': 'https://www.instagram.com/p/BkduH0I...  \n",
       "2  [{'href': 'https://www.instagram.com/p/BkcE6k4...  \n",
       "3  [{'href': 'https://www.instagram.com/p/Bka_R4p...  \n",
       "4  [{'href': 'https://www.instagram.com/p/BkWRZqr...  "
      ]
     },
     "execution_count": 28,
     "metadata": {},
     "output_type": "execute_result"
    }
   ],
   "source": [
    "df_likesmedia.head()"
   ]
  },
  {
   "cell_type": "code",
   "execution_count": null,
   "id": "90fd44be",
   "metadata": {},
   "outputs": [],
   "source": [
    "df_likesmedia['title']"
   ]
  },
  {
   "cell_type": "code",
   "execution_count": 30,
   "id": "591c1ba8",
   "metadata": {},
   "outputs": [],
   "source": [
    "likescount = df_likesmedia.groupby('title').count().sort_values('media_list_data',ascending = False)"
   ]
  },
  {
   "cell_type": "code",
   "execution_count": 40,
   "id": "e3cf6d35",
   "metadata": {},
   "outputs": [
    {
     "data": {
      "text/plain": [
       "Index(['media_list_data', 'string_list_data'], dtype='object')"
      ]
     },
     "execution_count": 40,
     "metadata": {},
     "output_type": "execute_result"
    }
   ],
   "source": [
    "likescount.keys()"
   ]
  },
  {
   "cell_type": "code",
   "execution_count": null,
   "id": "602b799f",
   "metadata": {},
   "outputs": [],
   "source": [
    "likescount"
   ]
  },
  {
   "cell_type": "markdown",
   "id": "b8603c2b",
   "metadata": {},
   "source": [
    "fig1, ax1 = plt.subplots(1, 1, figsize = (10, 10))\n",
    "ax1.scatter(equal_audio_features['danceability'], equal_audio_features['energy'])\n",
    "ax1.set_xlabel('Username')\n",
    "ax1.set_ylabel('Number of Posts Liked')\n",
    "ax1.set_title('The danceability rating of a song associates with the energy rating of a song')\n",
    "\n",
    "ax1.set_ylim(0, 1)\n",
    "ax1.set_xlim(0, 1) #sets x and y values max and min to 0 and 1\n",
    "plt.show()"
   ]
  },
  {
   "cell_type": "code",
   "execution_count": null,
   "id": "a5150cd4",
   "metadata": {},
   "outputs": [],
   "source": [
    "fig3, ax3 = plt.subplots(1, 1, figsize = (10, 10))\n",
    "ax3.hist(likescount['media_list_data'].head(5), color = 'blue', bins = 50, alpha = .5, label = 'likes')\n",
    "\n",
    "\n",
    "plt.show()"
   ]
  },
  {
   "cell_type": "code",
   "execution_count": 45,
   "id": "81725d17",
   "metadata": {},
   "outputs": [
    {
     "data": {
      "image/png": "[encoded data removed]",
      "text/plain": [
       "<Figure size 432x288 with 1 Axes>"
      ]
     },
     "metadata": {
      "needs_background": "light"
     },
     "output_type": "display_data"
    }
   ],
   "source": [
    "plt.bar(df_likesmedia['title'].head(5), likescount['media_list_data'].head(5), color = \"blue\")\n",
    "plt.xlabel(\"Username\")\n",
    "plt.ylabel(\"Number of Posts Liked\")\n",
    "plt.title(\"Accounts Sorted by Highest Liked\")\n",
    "\n",
    "plt.show()"
   ]
  },
  {
   "cell_type": "markdown",
   "id": "fdb72eea",
   "metadata": {},
   "source": [
    "This bar graph is the overall end goal, however I have to figure out how to apply the correct username to the data because right now they are incorrect (the top account should be the \"wannatradepants\" according to my tables)."
   ]
  }
 ],
 "metadata": {
  "kernelspec": {
   "display_name": "Python 3 (ipykernel)",
   "language": "python",
   "name": "python3"
  },
  "language_info": {
   "codemirror_mode": {
    "name": "ipython",
    "version": 3
   },
   "file_extension": ".py",
   "mimetype": "text/x-python",
   "name": "python",
   "nbconvert_exporter": "python",
   "pygments_lexer": "ipython3",
   "version": "3.9.6"
  }
 },
 "nbformat": 4,
 "nbformat_minor": 5
}
